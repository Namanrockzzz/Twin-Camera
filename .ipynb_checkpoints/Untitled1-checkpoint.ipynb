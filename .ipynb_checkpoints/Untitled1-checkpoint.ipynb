{
 "cells": [
  {
   "cell_type": "code",
   "execution_count": 1,
   "id": "superior-fusion",
   "metadata": {},
   "outputs": [],
   "source": [
    "%config IPCompleter.use_jedi=False"
   ]
  },
  {
   "cell_type": "code",
   "execution_count": 2,
   "id": "hazardous-reverse",
   "metadata": {},
   "outputs": [
    {
     "name": "stdout",
     "output_type": "stream",
     "text": [
      "-50\n",
      "-50 -50 -7\n",
      "-50 -47 -7\n",
      "-50 -44 -7\n",
      "-50 -41 -7\n",
      "-50 -38 -7\n",
      "-50 -35 -7\n",
      "-50 -32 -7\n",
      "-50 -29 -7\n",
      "-50 -26 -7\n",
      "-50 -23 -7\n",
      "-50 -20 -7\n",
      "-50 -17 -7\n",
      "-50 -14 -7\n",
      "-50 -2 7\n",
      "-50 1 7\n",
      "-50 4 7\n",
      "-50 7 7\n",
      "-50 10 7\n",
      "-47\n",
      "-47 -14 -7\n",
      "-47 1 7\n",
      "-47 4 7\n",
      "-47 7 7\n",
      "-47 10 7\n",
      "-44\n",
      "-44 -17 -7\n",
      "-44 -14 -7\n",
      "-44 1 7\n",
      "-44 4 7\n",
      "-44 7 7\n",
      "-44 10 7\n",
      "-41\n",
      "-41 -17 -7\n",
      "-41 -14 -7\n",
      "-41 4 7\n",
      "-41 7 7\n",
      "-41 13 7\n",
      "-38\n",
      "-38 -20 -7\n",
      "-38 -17 -7\n",
      "-38 -14 -7\n",
      "-38 4 7\n",
      "-38 7 7\n",
      "-35\n",
      "-35 -20 -7\n",
      "-35 -17 -7\n",
      "-35 -14 -7\n",
      "-35 -11 -5\n",
      "-35 -8 -5\n",
      "-35 1 3\n",
      "-35 4 5\n",
      "-32\n",
      "-32 -20 -5\n",
      "-32 -17 -7\n",
      "-32 -17 -5\n",
      "-32 -14 -7\n",
      "-32 -14 -5\n",
      "-32 -11 -5\n",
      "-32 -8 -5\n",
      "-29\n",
      "-29 -17 -5\n",
      "-29 -14 -5\n",
      "-29 -11 -5\n",
      "-29 -8 -5\n",
      "-29 1 3\n",
      "-26\n",
      "-26 -17 -5\n",
      "-26 -14 -5\n",
      "-26 -11 -5\n",
      "-26 -8 -5\n",
      "-26 -2 1\n",
      "-26 1 3\n",
      "-23\n",
      "-23 -14 -5\n",
      "-23 -11 -5\n",
      "-23 -8 -3\n",
      "-23 -5 -3\n",
      "-23 -2 1\n",
      "-23 1 3\n",
      "-20\n",
      "-20 -11 -3\n",
      "-20 -8 -3\n",
      "-20 -5 -3\n",
      "-20 -2 1\n",
      "-20 1 3\n",
      "-17\n",
      "-17 -14 -3\n",
      "-17 -11 -3\n",
      "-17 -8 -3\n",
      "-17 -2 1\n",
      "-17 1 3\n",
      "-14\n",
      "-14 -11 -3\n",
      "-14 -8 -3\n",
      "-14 -2 1\n",
      "-11\n",
      "-11 -8 -3\n",
      "-11 -8 -1\n",
      "-11 -5 -1\n",
      "-11 -2 1\n",
      "-8\n",
      "-8 -11 -1\n",
      "-8 -8 -1\n",
      "-8 -5 -1\n",
      "-5\n",
      "-5 -11 -1\n",
      "-5 -8 -1\n",
      "-5 -5 -1\n",
      "-2\n",
      "-2 -8 -1\n",
      "-2 -5 -1\n",
      "-2 -2 1\n",
      "1\n",
      "1 -2 1\n",
      "4\n",
      "7\n",
      "10\n",
      "13\n",
      "16\n",
      "19\n",
      "22\n",
      "25\n",
      "28\n",
      "31\n",
      "34\n",
      "37\n",
      "40\n",
      "43\n",
      "46\n",
      "49\n"
     ]
    }
   ],
   "source": [
    "import cv2\n",
    "import numpy as np\n",
    "from scipy import ndimage\n",
    "\n",
    "def shadow_remove(img):\n",
    "    rgb_planes = cv2.split(img)\n",
    "    result_norm_planes = []\n",
    "    for plane in rgb_planes:\n",
    "        dilated_img = cv2.dilate(plane, np.ones((7,7), np.uint8))\n",
    "        bg_img = cv2.medianBlur(dilated_img, 21)\n",
    "        diff_img = 255 - cv2.absdiff(plane, bg_img)\n",
    "        norm_img = cv2.normalize(diff_img,None, alpha=0, beta=255, norm_type=cv2.NORM_MINMAX, dtype=cv2.CV_8UC1)\n",
    "        result_norm_planes.append(norm_img)\n",
    "    shadowremov = cv2.merge(result_norm_planes)\n",
    "    return shadowremov\n",
    "\n",
    "def find_diff(image, background, rangex=50, rangey=50 , range_deg = 7 ):\n",
    "    #image = shadow_remove(image)\n",
    "    #background = shadow_remove(background)\n",
    "    \n",
    "    if len(image.shape)==3 :\n",
    "        image = cv2.cvtColor(image , cv2.COLOR_BGR2GRAY)\n",
    "    if len(background.shape)==3 :\n",
    "        background = cv2.cvtColor(background , cv2.COLOR_BGR2GRAY)\n",
    "    \n",
    "    #mask to not loose black pixels of background while applying mask after shifting background\n",
    "    _,mask_orig = cv2.threshold(image , 1, 255 ,cv2.THRESH_BINARY_INV)\n",
    "    \n",
    "    minimum = 255\n",
    "    best_match = None\n",
    "    for x in range(-rangex , rangex+1,3):\n",
    "        print(x)\n",
    "        for y in range(-rangey , rangey+1,3):\n",
    "            for theta in range(-range_deg , range_deg+1, 2):\n",
    "                #shift\n",
    "                image_temp = ndimage.shift(image , shift = [x , y] )\n",
    "                mask_orig_temp = ndimage.shift(mask_orig , shift = [x,y])\n",
    "                \n",
    "                #rotate\n",
    "                image_temp = ndimage.rotate(image_temp, angle = theta , reshape = False)\n",
    "                mask_orig_temp = ndimage.rotate(mask_orig_temp , angle = theta, reshape = False)\n",
    "                \n",
    "                _,mask_image = cv2.threshold(image_temp , 1 , 255 , cv2.THRESH_BINARY)\n",
    "                \n",
    "                #final mask for calculating difference\n",
    "                mask = mask_image + mask_orig_temp\n",
    "                \n",
    "                #size of the significant area\n",
    "                size = np.sum(mask)/255\n",
    "                \n",
    "                background_temp = cv2.bitwise_and(background , mask)\n",
    "                diff = cv2.absdiff(background_temp , image_temp )\n",
    "            \n",
    "                res = np.sum(diff)/size\n",
    "                if minimum  > res:\n",
    "                    minimum = res\n",
    "                    best_match = diff\n",
    "                    print(x ,y ,theta)\n",
    "                    shift_rotate = (x,y,theta)\n",
    "    return best_match, shift_rotate\n",
    "\n",
    "def Left_index(points): \n",
    "\n",
    "    ''' \n",
    "    Finding the left most point \n",
    "    '''\n",
    "    minn = 0\n",
    "    for i in range(1,len(points)): \n",
    "        if points[i][0] < points[minn][0]: \n",
    "            minn = i \n",
    "        elif points[i][0] == points[minn][0]: \n",
    "            if points[i][1] > points[minn][1]: \n",
    "                minn = i \n",
    "    return minn \n",
    "\n",
    "def orientation(p, q, r): \n",
    "    ''' \n",
    "    To find orientation of ordered triplet (p, q, r). \n",
    "    The function returns following values \n",
    "    0 --> p, q and r are colinear \n",
    "    1 --> Clockwise \n",
    "    2 --> Counterclockwise \n",
    "    '''\n",
    "    val = (q[1] - p[1]) * (r[0] - q[0]) - (q[0] - p[0]) * (r[1] - q[1]) \n",
    "\n",
    "    if val == 0: \n",
    "        return 0\n",
    "    elif val > 0: \n",
    "        return 1\n",
    "    else: \n",
    "        return 2\n",
    "\n",
    "def convexHull(points, n): \n",
    "    pts = []\n",
    "    # There must be at least 3 points \n",
    "    if n < 3:\n",
    "        return\n",
    "\n",
    "    # Find the leftmost point \n",
    "    l = Left_index(points) \n",
    "\n",
    "    hull = [] \n",
    "\n",
    "    ''' Start from leftmost point, keep moving counterclockwise \n",
    "    until reach the start point again. This loop runs O(h) \n",
    "    times where h is number of points in result or output. '''\n",
    "    p = l \n",
    "    q = 0\n",
    "    while(True): \n",
    "\n",
    "        # Add current point to result \n",
    "        hull.append(p) \n",
    "\n",
    "        ''' \n",
    "        Search for a point 'q' such that orientation(p, [1], \n",
    "        q) is counterclockwise for all points 'x'. The idea \n",
    "        is to keep track of last visited most counterclock- \n",
    "        wise point in q. If any point 'i' is more counterclock- \n",
    "        wise than q, then update q. \n",
    "        '''\n",
    "        q = (p + 1) % n \n",
    "\n",
    "        for i in range(n): \n",
    "\n",
    "\n",
    "            # If i is more counterclockwise \n",
    "            # than current q, then update q \n",
    "            if(orientation(points[p], points[i], points[q]) == 2): \n",
    "                q = i \n",
    "\n",
    "        ''' \n",
    "        Now q is the most counterclockwise with respect to p \n",
    "        Set p as q for next iteration, so that q is added to \n",
    "        result 'hull' \n",
    "        '''\n",
    "        p = q \n",
    "\n",
    "        # While we don't come to first point \n",
    "        if(p == l): \n",
    "            break\n",
    "    # Print Result \n",
    "    for each in hull: \n",
    "        pts.append([points[each][0] , points[each][1]])\n",
    "    return pts \n",
    "\n",
    "roi = 50\n",
    "def boundFill(img, contours):\n",
    "    \n",
    "    #replqce points of every contour by their bounding rectangle\n",
    "    for i in range(len(contours)):\n",
    "        x ,y ,w,h= cv2.boundingRect(contours[i])\n",
    "        contours[i] = [[x,y] ,[x+w,y+h]]\n",
    "        \n",
    "    pts = []\n",
    "    max_area = 0\n",
    "    \n",
    "    j= 0\n",
    "    while j < len(contours):\n",
    "        (min_x , min_y) = img.shape\n",
    "        max_x = max_y = 0\n",
    "        cnt_included = []\n",
    "        pts_tmp = []\n",
    "        cnt = contours[j]\n",
    "        \n",
    "        for i,cnt2 in enumerate(contours):\n",
    "            # if cnt2 lies in roi around cnt\n",
    "            if cnt[1][0]+roi>=cnt2[0][0] and cnt[0][0]-roi<=cnt2[1][0] and cnt[1][1]+roi>=cnt2[0][1] and cnt[0][1]-roi<=cnt2[1][1]:\n",
    "                max_x = max([max_x ,cnt[1][0] , cnt2[1][0]])\n",
    "                min_x = min([min_x ,cnt[0][0] , cnt2[0][0]])\n",
    "                max_y = max([max_y ,cnt[1][1] , cnt2[1][1]])\n",
    "                min_y = min([min_y ,cnt[0][1] , cnt2[0][1]])\n",
    "                cnt_included.append(i)\n",
    "                pts_tmp = pts_tmp + [contours[i]]\n",
    "        i=0 \n",
    "        N =n= len(pts_tmp)\n",
    "        while i < n :\n",
    "            pt = pts_tmp[i]\n",
    "            \n",
    "            #remove the contours included in roi of cnt\n",
    "            contours.remove(pt)\n",
    "            \n",
    "            #pt includes more than one contours\n",
    "            if len(pt) > 2 :\n",
    "                \n",
    "                #add all contours included in pt\n",
    "                pts_tmp = pts_tmp + pts_tmp[i][2:]\n",
    "                pts_tmp.pop(i)\n",
    "                \n",
    "                i = i-1 \n",
    "                n =  n-1\n",
    "            \n",
    "            if cnt_included[i]<=j:\n",
    "                j = j-1\n",
    "            \n",
    "            i=i+1\n",
    "        \n",
    "        area = (max_x-min_x)*(max_y-min_y)\n",
    "        if area > max_area:\n",
    "            max_area = area\n",
    "            pts = pts_tmp\n",
    "        \n",
    "        if N>1:\n",
    "            #add the contours and bounding rectangle of the roi around cnt\n",
    "            contours.append([[min_x , min_y] , [max_x ,max_y]]+pts_tmp)\n",
    "            \n",
    "        j = j+1\n",
    "        \n",
    "    #add other two points of bounding rectangle of all the other contours    \n",
    "    for i in range(len(pts)):\n",
    "        x1 = pts[i][0][0]\n",
    "        x2 = pts[i][1][0]\n",
    "        y1 = pts[i][0][1]\n",
    "        y2 = pts[i][1][1]\n",
    "        pts[i] = pts[i]+[[x1,y2],[x2,y1]]\n",
    "    \n",
    "    pts = np.array(pts , np.int32).reshape((-1,2))\n",
    "    pts = convexHull(pts, len(pts))\n",
    "    pts =  np.array([pts] , np.int32)\n",
    "    pts = pts.reshape((-1,1, 2)) \n",
    "    \n",
    "    res = cv2.fillPoly(np.zeros(img.shape , np.uint8), [pts], (255,255,255))\n",
    "    \n",
    "    return res\n",
    "\n",
    "bg = cv2.imread(\"images/bg.jpg\")\n",
    "bg = cv2.resize(bg,(bg.shape[1]//10,bg.shape[0]//10))\n",
    "# cv2.imshow(\"bg\",bg)\n",
    "img1 = cv2.imread(\"images/img2.jpg\")\n",
    "img2 = cv2.imread(\"images/img1.jpg\")\n",
    "img1 = cv2.resize(img1,(bg.shape[1],bg.shape[0]))\n",
    "img2 = cv2.resize(img2,(bg.shape[1],bg.shape[0]))\n",
    "# cv2.imshow(\"img1\", img1)\n",
    "# cv2.imshow(\"img2\", img2)\n",
    "\n",
    "diff,shift_rotate = find_diff(img1 , bg)"
   ]
  },
  {
   "cell_type": "code",
   "execution_count": 3,
   "id": "transsexual-medicare",
   "metadata": {},
   "outputs": [],
   "source": [
    "temp12 = diff.copy()"
   ]
  },
  {
   "cell_type": "code",
   "execution_count": 18,
   "id": "increasing-wings",
   "metadata": {},
   "outputs": [],
   "source": [
    "diff = temp12.copy()"
   ]
  },
  {
   "cell_type": "code",
   "execution_count": 19,
   "id": "weekly-blogger",
   "metadata": {},
   "outputs": [
    {
     "name": "stdout",
     "output_type": "stream",
     "text": [
      "(600, 800, 3)\n"
     ]
    }
   ],
   "source": [
    "_ , diff = cv2.threshold(diff, 30 , 255 , cv2.THRESH_BINARY)\n",
    "cv2.imshow(\"thresholded\" , diff)\n",
    "\n",
    "\n",
    "cv2.waitKey(0)\n",
    "print(bg.shape)"
   ]
  },
  {
   "cell_type": "code",
   "execution_count": 20,
   "id": "homeless-century",
   "metadata": {},
   "outputs": [
    {
     "name": "stdout",
     "output_type": "stream",
     "text": [
      "(600, 800, 3)\n"
     ]
    }
   ],
   "source": [
    "diff = cv2.erode(diff , np.full((3,3),255, np.uint8)  , iterations = 3)\n",
    "cv2.imshow(\"eroded\" , diff)\n",
    "\n",
    "\n",
    "cv2.waitKey(0)\n",
    "print(bg.shape)\n"
   ]
  },
  {
   "cell_type": "code",
   "execution_count": 21,
   "id": "greenhouse-alignment",
   "metadata": {},
   "outputs": [
    {
     "name": "stdout",
     "output_type": "stream",
     "text": [
      "(600, 800, 3)\n"
     ]
    }
   ],
   "source": [
    "canny = cv2.Canny(diff , 90 ,100)\n",
    "cv2.imshow(\"canny\" , canny)\n",
    "\n",
    "\n",
    "cv2.waitKey(0)\n",
    "print(bg.shape)\n"
   ]
  },
  {
   "cell_type": "code",
   "execution_count": 22,
   "id": "centered-figure",
   "metadata": {},
   "outputs": [
    {
     "name": "stdout",
     "output_type": "stream",
     "text": [
      "(600, 800)\n"
     ]
    }
   ],
   "source": [
    "contours , hierarchy = cv2.findContours(canny , cv2.RETR_EXTERNAL , cv2.CHAIN_APPROX_NONE)\n",
    "\n",
    "finalmask = boundFill(diff , contours)\n",
    "print(finalmask.shape)"
   ]
  },
  {
   "cell_type": "code",
   "execution_count": 23,
   "id": "manual-concentration",
   "metadata": {},
   "outputs": [
    {
     "name": "stdout",
     "output_type": "stream",
     "text": [
      "(600, 800)\n"
     ]
    }
   ],
   "source": [
    "finalmask = np.array(finalmask)\n",
    "print(finalmask.shape)\n",
    "temp34 = finalmask.copy()"
   ]
  },
  {
   "cell_type": "code",
   "execution_count": 24,
   "id": "marked-announcement",
   "metadata": {},
   "outputs": [],
   "source": [
    "finalmask = np.stack((finalmask,finalmask,finalmask),axis=2)"
   ]
  },
  {
   "cell_type": "code",
   "execution_count": 25,
   "id": "excited-journalist",
   "metadata": {},
   "outputs": [
    {
     "data": {
      "text/plain": [
       "(600, 800, 3)"
      ]
     },
     "execution_count": 25,
     "metadata": {},
     "output_type": "execute_result"
    }
   ],
   "source": [
    "finalmask.shape"
   ]
  },
  {
   "cell_type": "code",
   "execution_count": 26,
   "id": "descending-motion",
   "metadata": {},
   "outputs": [],
   "source": [
    "image_temp = ndimage.shift(img1 , shift = [shift_rotate[0] , shift_rotate[1],0] )\n",
    "\n",
    "#rotate\n",
    "image_temp = ndimage.rotate(image_temp, angle = shift_rotate[2] , reshape = False)"
   ]
  },
  {
   "cell_type": "code",
   "execution_count": 27,
   "id": "prescribed-posting",
   "metadata": {},
   "outputs": [
    {
     "data": {
      "text/plain": [
       "-1"
      ]
     },
     "execution_count": 27,
     "metadata": {},
     "output_type": "execute_result"
    }
   ],
   "source": [
    "cv2.imshow(\"image_temp\",image_temp)\n",
    "cv2.waitKey(0)"
   ]
  },
  {
   "cell_type": "code",
   "execution_count": 29,
   "id": "changed-bouquet",
   "metadata": {},
   "outputs": [],
   "source": [
    "\n",
    "detected = cv2.bitwise_and(finalmask , image_temp )"
   ]
  },
  {
   "cell_type": "code",
   "execution_count": 30,
   "id": "spare-france",
   "metadata": {},
   "outputs": [
    {
     "name": "stdout",
     "output_type": "stream",
     "text": [
      "(600, 800, 3)\n"
     ]
    }
   ],
   "source": [
    "cv2.imshow(\"detected\" , detected)\n",
    "cv2.waitKey(0)\n",
    "print(bg.shape)"
   ]
  },
  {
   "cell_type": "code",
   "execution_count": null,
   "id": "radio-worship",
   "metadata": {},
   "outputs": [],
   "source": []
  }
 ],
 "metadata": {
  "kernelspec": {
   "display_name": "Python 3",
   "language": "python",
   "name": "python3"
  },
  "language_info": {
   "codemirror_mode": {
    "name": "ipython",
    "version": 3
   },
   "file_extension": ".py",
   "mimetype": "text/x-python",
   "name": "python",
   "nbconvert_exporter": "python",
   "pygments_lexer": "ipython3",
   "version": "3.9.1"
  }
 },
 "nbformat": 4,
 "nbformat_minor": 5
}
